{
 "cells": [
  {
   "cell_type": "code",
   "execution_count": 11,
   "metadata": {},
   "outputs": [],
   "source": [
    "import numpy as np\n",
    "import pandas as pd \n",
    "import matplotlib.pyplot as plt\n",
    "import tensorflow as tf \n",
    "\n",
    "from tensorflow import keras\n",
    "from tensorflow.keras import layers"
   ]
  },
  {
   "cell_type": "code",
   "execution_count": 12,
   "metadata": {},
   "outputs": [],
   "source": [
    "data_train_path = \"Fruits_Vegetables/train\"\n",
    "data_test_path = \"Fruits_Vegetables/test\"\n",
    "data_val_path = \"Fruits_Vegetables/validation\""
   ]
  },
  {
   "cell_type": "code",
   "execution_count": 13,
   "metadata": {},
   "outputs": [],
   "source": [
    "img_width = 180\n",
    "img_height = 180"
   ]
  },
  {
   "cell_type": "markdown",
   "metadata": {},
   "source": [
    "Load the dataset into a array"
   ]
  },
  {
   "cell_type": "code",
   "execution_count": 18,
   "metadata": {},
   "outputs": [
    {
     "name": "stdout",
     "output_type": "stream",
     "text": [
      "Found 3115 files belonging to 36 classes.\n"
     ]
    }
   ],
   "source": [
    "data_train = tf.keras.utils.image_dataset_from_directory(\n",
    "    data_train_path,\n",
    "    shuffle = True,\n",
    "    image_size = (img_width, img_height),\n",
    "    batch_size = 32,\n",
    "    # split the dataset the into training and validation sets\n",
    "    validation_split=False\n",
    ")"
   ]
  },
  {
   "cell_type": "markdown",
   "metadata": {},
   "source": [
    "Checking for classes in the dataset"
   ]
  },
  {
   "cell_type": "code",
   "execution_count": 21,
   "metadata": {},
   "outputs": [],
   "source": [
    "data_cat = data_train.class_names"
   ]
  },
  {
   "cell_type": "markdown",
   "metadata": {},
   "source": [
    "Validation Dataset - Evalute the performance of a machine learning model durin training and to tune hyperparamters without overtfitting the training dataset"
   ]
  },
  {
   "cell_type": "code",
   "execution_count": 23,
   "metadata": {},
   "outputs": [
    {
     "name": "stdout",
     "output_type": "stream",
     "text": [
      "Found 351 files belonging to 36 classes.\n"
     ]
    }
   ],
   "source": [
    "data_val = tf.keras.utils.image_dataset_from_directory(\n",
    "    data_val_path,\n",
    "    image_size = (img_width, img_height),\n",
    "    batch_size = 32,\n",
    "    shuffle = False,\n",
    "    # split the dataset the into training and validation sets\n",
    "   validation_split = False\n",
    ")"
   ]
  },
  {
   "cell_type": "markdown",
   "metadata": {},
   "source": [
    "Test Dataset"
   ]
  },
  {
   "cell_type": "code",
   "execution_count": 25,
   "metadata": {},
   "outputs": [
    {
     "name": "stdout",
     "output_type": "stream",
     "text": [
      "Found 359 files belonging to 36 classes.\n"
     ]
    }
   ],
   "source": [
    "data_test = tf.keras.utils.image_dataset_from_directory(\n",
    "    data_test_path,\n",
    "    image_size = (img_width, img_height),\n",
    "    batch_size = 32,\n",
    "    shuffle = False,\n",
    "    # split the dataset the into training and validation sets\n",
    "   validation_split = False\n",
    ")"
   ]
  },
  {
   "cell_type": "markdown",
   "metadata": {},
   "source": [
    "Printing images to the console"
   ]
  },
  {
   "cell_type": "code",
   "execution_count": null,
   "metadata": {},
   "outputs": [],
   "source": [
    "plt.figure(figsize=(10, 10))\n",
    "for images, labels in data_train.take(1):\n",
    "    for i in range(9):\n",
    "        plt.subplot(3, 3, i + 1)\n",
    "        plt.imshow(images[i].numpy().astype('uint8'))\n",
    "        plt.title(data_cat[labels[i]])\n",
    "        plt.axis('off')\n",
    "plt.show()"
   ]
  },
  {
   "cell_type": "markdown",
   "metadata": {},
   "source": [
    "Dataset will devided into three colors - RGB"
   ]
  },
  {
   "cell_type": "markdown",
   "metadata": {},
   "source": [
    "Building Sequential Model"
   ]
  },
  {
   "cell_type": "code",
   "execution_count": 36,
   "metadata": {},
   "outputs": [],
   "source": [
    "from tensorflow.keras.models import Sequential"
   ]
  },
  {
   "cell_type": "code",
   "execution_count": 38,
   "metadata": {},
   "outputs": [
    {
     "data": {
      "text/plain": [
       "<_PrefetchDataset element_spec=(TensorSpec(shape=(None, 180, 180, 3), dtype=tf.float32, name=None), TensorSpec(shape=(None,), dtype=tf.int32, name=None))>"
      ]
     },
     "execution_count": 38,
     "metadata": {},
     "output_type": "execute_result"
    }
   ],
   "source": [
    "data_train"
   ]
  },
  {
   "cell_type": "code",
   "execution_count": 41,
   "metadata": {},
   "outputs": [],
   "source": [
    "model = Sequential([\n",
    "    # rescaling each color in between one an zero\n",
    "    layers.Rescaling(1./255),\n",
    "    # creating 3 layers with 16 nuerons\n",
    "    layers.Conv2D(16, 3, padding='same', activation='relu'),\n",
    "    layers.MaxPooling2D(),\n",
    "    layers.Conv2D(32,3, padding='same',activation='relu'),\n",
    "    layers.MaxPooling2D(),\n",
    "    layers.Conv2D(64, 3, padding='same', activation='relu'),\n",
    "    layers.MaxPooling2D(),\n",
    "    layers.Flatten(),\n",
    "    # Dropout is used, so model will not overfit\n",
    "    layers.Dropout(0.2),\n",
    "    layers.Dense(128),\n",
    "    layers.Dense(len(data_cat))\n",
    "])"
   ]
  },
  {
   "cell_type": "code",
   "execution_count": 42,
   "metadata": {},
   "outputs": [],
   "source": [
    "model.compile(optimizer='adam', loss=tf.keras.losses.SparseCategoricalCrossentropy(from_logits=True), metrics=['accuracy'])"
   ]
  },
  {
   "cell_type": "markdown",
   "metadata": {},
   "source": [
    "Training model"
   ]
  },
  {
   "cell_type": "code",
   "execution_count": 43,
   "metadata": {},
   "outputs": [
    {
     "name": "stdout",
     "output_type": "stream",
     "text": [
      "Epoch 1/25\n",
      "\u001b[1m98/98\u001b[0m \u001b[32m━━━━━━━━━━━━━━━━━━━━\u001b[0m\u001b[37m\u001b[0m \u001b[1m33s\u001b[0m 297ms/step - accuracy: 0.0521 - loss: 3.8356 - val_accuracy: 0.3020 - val_loss: 2.6249\n",
      "Epoch 2/25\n",
      "\u001b[1m98/98\u001b[0m \u001b[32m━━━━━━━━━━━━━━━━━━━━\u001b[0m\u001b[37m\u001b[0m \u001b[1m33s\u001b[0m 311ms/step - accuracy: 0.2597 - loss: 2.6790 - val_accuracy: 0.5185 - val_loss: 1.7603\n",
      "Epoch 3/25\n",
      "\u001b[1m98/98\u001b[0m \u001b[32m━━━━━━━━━━━━━━━━━━━━\u001b[0m\u001b[37m\u001b[0m \u001b[1m34s\u001b[0m 327ms/step - accuracy: 0.4617 - loss: 1.8976 - val_accuracy: 0.7664 - val_loss: 0.9085\n",
      "Epoch 4/25\n",
      "\u001b[1m98/98\u001b[0m \u001b[32m━━━━━━━━━━━━━━━━━━━━\u001b[0m\u001b[37m\u001b[0m \u001b[1m35s\u001b[0m 334ms/step - accuracy: 0.6720 - loss: 1.1630 - val_accuracy: 0.8832 - val_loss: 0.5588\n",
      "Epoch 5/25\n",
      "\u001b[1m98/98\u001b[0m \u001b[32m━━━━━━━━━━━━━━━━━━━━\u001b[0m\u001b[37m\u001b[0m \u001b[1m34s\u001b[0m 323ms/step - accuracy: 0.8103 - loss: 0.6904 - val_accuracy: 0.9402 - val_loss: 0.4027\n",
      "Epoch 6/25\n",
      "\u001b[1m98/98\u001b[0m \u001b[32m━━━━━━━━━━━━━━━━━━━━\u001b[0m\u001b[37m\u001b[0m \u001b[1m35s\u001b[0m 333ms/step - accuracy: 0.9042 - loss: 0.3736 - val_accuracy: 0.9117 - val_loss: 0.4696\n",
      "Epoch 7/25\n",
      "\u001b[1m98/98\u001b[0m \u001b[32m━━━━━━━━━━━━━━━━━━━━\u001b[0m\u001b[37m\u001b[0m \u001b[1m34s\u001b[0m 322ms/step - accuracy: 0.9269 - loss: 0.2953 - val_accuracy: 0.9316 - val_loss: 0.3618\n",
      "Epoch 8/25\n",
      "\u001b[1m98/98\u001b[0m \u001b[32m━━━━━━━━━━━━━━━━━━━━\u001b[0m\u001b[37m\u001b[0m \u001b[1m34s\u001b[0m 321ms/step - accuracy: 0.9385 - loss: 0.2241 - val_accuracy: 0.9430 - val_loss: 0.4142\n",
      "Epoch 9/25\n",
      "\u001b[1m98/98\u001b[0m \u001b[32m━━━━━━━━━━━━━━━━━━━━\u001b[0m\u001b[37m\u001b[0m \u001b[1m34s\u001b[0m 328ms/step - accuracy: 0.9570 - loss: 0.1662 - val_accuracy: 0.9487 - val_loss: 0.4366\n",
      "Epoch 10/25\n",
      "\u001b[1m98/98\u001b[0m \u001b[32m━━━━━━━━━━━━━━━━━━━━\u001b[0m\u001b[37m\u001b[0m \u001b[1m34s\u001b[0m 323ms/step - accuracy: 0.9671 - loss: 0.1440 - val_accuracy: 0.9487 - val_loss: 0.4240\n",
      "Epoch 11/25\n",
      "\u001b[1m98/98\u001b[0m \u001b[32m━━━━━━━━━━━━━━━━━━━━\u001b[0m\u001b[37m\u001b[0m \u001b[1m38s\u001b[0m 364ms/step - accuracy: 0.9716 - loss: 0.1355 - val_accuracy: 0.9601 - val_loss: 0.4505\n",
      "Epoch 12/25\n",
      "\u001b[1m98/98\u001b[0m \u001b[32m━━━━━━━━━━━━━━━━━━━━\u001b[0m\u001b[37m\u001b[0m \u001b[1m37s\u001b[0m 351ms/step - accuracy: 0.9753 - loss: 0.1046 - val_accuracy: 0.9516 - val_loss: 0.4585\n",
      "Epoch 13/25\n",
      "\u001b[1m98/98\u001b[0m \u001b[32m━━━━━━━━━━━━━━━━━━━━\u001b[0m\u001b[37m\u001b[0m \u001b[1m36s\u001b[0m 336ms/step - accuracy: 0.9728 - loss: 0.1069 - val_accuracy: 0.9544 - val_loss: 0.4716\n",
      "Epoch 14/25\n",
      "\u001b[1m98/98\u001b[0m \u001b[32m━━━━━━━━━━━━━━━━━━━━\u001b[0m\u001b[37m\u001b[0m \u001b[1m34s\u001b[0m 327ms/step - accuracy: 0.9810 - loss: 0.0960 - val_accuracy: 0.9544 - val_loss: 0.4692\n",
      "Epoch 15/25\n",
      "\u001b[1m98/98\u001b[0m \u001b[32m━━━━━━━━━━━━━━━━━━━━\u001b[0m\u001b[37m\u001b[0m \u001b[1m40s\u001b[0m 389ms/step - accuracy: 0.9841 - loss: 0.0786 - val_accuracy: 0.9544 - val_loss: 0.4712\n",
      "Epoch 16/25\n",
      "\u001b[1m98/98\u001b[0m \u001b[32m━━━━━━━━━━━━━━━━━━━━\u001b[0m\u001b[37m\u001b[0m \u001b[1m42s\u001b[0m 405ms/step - accuracy: 0.9846 - loss: 0.0818 - val_accuracy: 0.9573 - val_loss: 0.3683\n",
      "Epoch 17/25\n",
      "\u001b[1m98/98\u001b[0m \u001b[32m━━━━━━━━━━━━━━━━━━━━\u001b[0m\u001b[37m\u001b[0m \u001b[1m35s\u001b[0m 333ms/step - accuracy: 0.9861 - loss: 0.0688 - val_accuracy: 0.9573 - val_loss: 0.3566\n",
      "Epoch 18/25\n",
      "\u001b[1m98/98\u001b[0m \u001b[32m━━━━━━━━━━━━━━━━━━━━\u001b[0m\u001b[37m\u001b[0m \u001b[1m35s\u001b[0m 332ms/step - accuracy: 0.9894 - loss: 0.0432 - val_accuracy: 0.9516 - val_loss: 0.4012\n",
      "Epoch 19/25\n",
      "\u001b[1m98/98\u001b[0m \u001b[32m━━━━━━━━━━━━━━━━━━━━\u001b[0m\u001b[37m\u001b[0m \u001b[1m36s\u001b[0m 348ms/step - accuracy: 0.9876 - loss: 0.0607 - val_accuracy: 0.9544 - val_loss: 0.3631\n",
      "Epoch 20/25\n",
      "\u001b[1m98/98\u001b[0m \u001b[32m━━━━━━━━━━━━━━━━━━━━\u001b[0m\u001b[37m\u001b[0m \u001b[1m36s\u001b[0m 346ms/step - accuracy: 0.9876 - loss: 0.0460 - val_accuracy: 0.9573 - val_loss: 0.3565\n",
      "Epoch 21/25\n",
      "\u001b[1m98/98\u001b[0m \u001b[32m━━━━━━━━━━━━━━━━━━━━\u001b[0m\u001b[37m\u001b[0m \u001b[1m41s\u001b[0m 397ms/step - accuracy: 0.9834 - loss: 0.0653 - val_accuracy: 0.9544 - val_loss: 0.4103\n",
      "Epoch 22/25\n",
      "\u001b[1m98/98\u001b[0m \u001b[32m━━━━━━━━━━━━━━━━━━━━\u001b[0m\u001b[37m\u001b[0m \u001b[1m39s\u001b[0m 377ms/step - accuracy: 0.9873 - loss: 0.0573 - val_accuracy: 0.9573 - val_loss: 0.3476\n",
      "Epoch 23/25\n",
      "\u001b[1m98/98\u001b[0m \u001b[32m━━━━━━━━━━━━━━━━━━━━\u001b[0m\u001b[37m\u001b[0m \u001b[1m41s\u001b[0m 392ms/step - accuracy: 0.9865 - loss: 0.0455 - val_accuracy: 0.9573 - val_loss: 0.3828\n",
      "Epoch 24/25\n",
      "\u001b[1m98/98\u001b[0m \u001b[32m━━━━━━━━━━━━━━━━━━━━\u001b[0m\u001b[37m\u001b[0m \u001b[1m42s\u001b[0m 397ms/step - accuracy: 0.9846 - loss: 0.0600 - val_accuracy: 0.9430 - val_loss: 0.3713\n",
      "Epoch 25/25\n",
      "\u001b[1m98/98\u001b[0m \u001b[32m━━━━━━━━━━━━━━━━━━━━\u001b[0m\u001b[37m\u001b[0m \u001b[1m42s\u001b[0m 394ms/step - accuracy: 0.9807 - loss: 0.0738 - val_accuracy: 0.9516 - val_loss: 0.3819\n"
     ]
    }
   ],
   "source": [
    "# model will iterate 25 times over the entire training dataset\n",
    "epochs_size = 25\n",
    "history = model.fit(data_train, validation_data=data_val, epochs=epochs_size)"
   ]
  },
  {
   "cell_type": "markdown",
   "metadata": {},
   "source": [
    "Checking accuracy and loss of training and validation of the model"
   ]
  },
  {
   "cell_type": "code",
   "execution_count": 47,
   "metadata": {},
   "outputs": [
    {
     "data": {
      "text/plain": [
       "Text(0.5, 1.0, 'Loss')"
      ]
     },
     "execution_count": 47,
     "metadata": {},
     "output_type": "execute_result"
    },
    {
     "data": {
      "image/png": "[encoded data removed]",
      "text/plain": [
       "<Figure size 800x800 with 2 Axes>"
      ]
     },
     "metadata": {},
     "output_type": "display_data"
    }
   ],
   "source": [
    "epochs_range = range(epochs_size)\n",
    "plt.figure(figsize=(8,8))\n",
    "plt.subplot(1,2,1)\n",
    "plt.plot(epochs_range,history.history['accuracy'],label = 'Training Accuracy')\n",
    "plt.plot(epochs_range, history.history['val_accuracy'],label = 'Validation Accuracy')\n",
    "plt.title('Accuracy')\n",
    "\n",
    "plt.subplot(1,2,2)\n",
    "plt.plot(epochs_range,history.history['loss'],label = 'Training Loss')\n",
    "plt.plot(epochs_range, history.history['val_loss'],label = 'Validation Loss')\n",
    "plt.title('Loss')"
   ]
  },
  {
   "cell_type": "code",
   "execution_count": 65,
   "metadata": {},
   "outputs": [],
   "source": [
    "image = \"Chilli.jpeg\"\n",
    "image = tf.keras.utils.load_img(image, target_size=(img_height,img_width))\n",
    "img_arr = tf.keras.utils.array_to_img(image)\n",
    "img_bat=tf.expand_dims(img_arr,0)"
   ]
  },
  {
   "cell_type": "markdown",
   "metadata": {},
   "source": [
    "Testing the model"
   ]
  },
  {
   "cell_type": "code",
   "execution_count": 66,
   "metadata": {},
   "outputs": [
    {
     "name": "stdout",
     "output_type": "stream",
     "text": [
      "\u001b[1m1/1\u001b[0m \u001b[32m━━━━━━━━━━━━━━━━━━━━\u001b[0m\u001b[37m\u001b[0m \u001b[1m0s\u001b[0m 48ms/step\n"
     ]
    }
   ],
   "source": [
    "predict = model.predict(img_bat)"
   ]
  },
  {
   "cell_type": "code",
   "execution_count": 67,
   "metadata": {},
   "outputs": [
    {
     "data": {
      "text/plain": [
       "<tf.Tensor: shape=(1, 36), dtype=float32, numpy=\n",
       "array([[5.4484275e-03, 1.2217492e-16, 3.4448989e-02, 8.1777478e-05,\n",
       "        2.1399657e-21, 9.7774355e-05, 8.7080392e-11, 2.0220767e-12,\n",
       "        8.3946800e-01, 6.0693253e-13, 7.4198716e-17, 1.4245550e-12,\n",
       "        9.5195150e-20, 4.3751708e-15, 9.6135372e-13, 1.0042920e-04,\n",
       "        6.7490650e-26, 5.1460136e-23, 8.1834987e-16, 1.0407733e-07,\n",
       "        8.3694126e-14, 1.3648640e-12, 2.3935093e-02, 9.6385368e-18,\n",
       "        1.8353415e-18, 6.7417842e-18, 9.4710454e-02, 2.3004327e-06,\n",
       "        3.4648008e-05, 4.2557286e-15, 1.9876280e-19, 1.4902345e-13,\n",
       "        2.1498605e-05, 1.5980005e-03, 7.1495886e-12, 5.2511921e-05]],\n",
       "      dtype=float32)>"
      ]
     },
     "execution_count": 67,
     "metadata": {},
     "output_type": "execute_result"
    }
   ],
   "source": [
    "score = tf.nn.softmax(predict)\n",
    "score"
   ]
  },
  {
   "cell_type": "code",
   "execution_count": 68,
   "metadata": {},
   "outputs": [
    {
     "name": "stdout",
     "output_type": "stream",
     "text": [
      "Veg/Fruit in image is chilli pepper with accuracy of 83.95\n"
     ]
    }
   ],
   "source": [
    "print('Veg/Fruit in image is {} with accuracy of {:0.2f}'.format(data_cat[np.argmax(score)],np.max(score)*100))"
   ]
  },
  {
   "cell_type": "code",
   "execution_count": 69,
   "metadata": {},
   "outputs": [],
   "source": [
    "model.save('Image_Classify.keras')"
   ]
  },
  {
   "cell_type": "code",
   "execution_count": null,
   "metadata": {},
   "outputs": [],
   "source": []
  }
 ],
 "metadata": {
  "kernelspec": {
   "display_name": "Python 3",
   "language": "python",
   "name": "python3"
  },
  "language_info": {
   "codemirror_mode": {
    "name": "ipython",
    "version": 3
   },
   "file_extension": ".py",
   "mimetype": "text/x-python",
   "name": "python",
   "nbconvert_exporter": "python",
   "pygments_lexer": "ipython3",
   "version": "3.12.1"
  }
 },
 "nbformat": 4,
 "nbformat_minor": 2
}
